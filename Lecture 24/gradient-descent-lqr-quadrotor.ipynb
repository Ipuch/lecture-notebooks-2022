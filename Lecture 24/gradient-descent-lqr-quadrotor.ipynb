{
 "cells": [
  {
   "cell_type": "code",
   "execution_count": 535,
   "id": "89f1cd70-b334-4e3e-a024-53eacb49d744",
   "metadata": {},
   "outputs": [],
   "source": [
    "using LinearAlgebra\n",
    "using PyPlot\n",
    "using ControlSystems\n",
    "using ForwardDiff"
   ]
  },
  {
   "cell_type": "code",
   "execution_count": 536,
   "id": "e237bfca-1690-46db-9ff8-f684e3a58aab",
   "metadata": {},
   "outputs": [
    {
     "data": {
      "text/plain": [
       "0.2"
      ]
     },
     "execution_count": 536,
     "metadata": {},
     "output_type": "execute_result"
    }
   ],
   "source": [
    "#Model parameters\n",
    "g = 9.81 #m/s^2\n",
    "m = 1.0 #kg \n",
    "ℓ = 0.3 #meters\n",
    "\n",
    "h = 0.2 #time step (5 Hz)"
   ]
  },
  {
   "cell_type": "code",
   "execution_count": 537,
   "id": "084aa1bd-c38e-4e66-aed1-99ee96f65c77",
   "metadata": {},
   "outputs": [
    {
     "data": {
      "text/plain": [
       "quad_dynamics (generic function with 1 method)"
      ]
     },
     "execution_count": 537,
     "metadata": {},
     "output_type": "execute_result"
    }
   ],
   "source": [
    "#Planar Quadrotor Dynamics\n",
    "function quad_dynamics(x,u)\n",
    "    θ = x[3]\n",
    "    \n",
    "    ẍ = (1/m)*(u[1] + u[2])*sin(θ)\n",
    "    ÿ = (1/m)*(u[1] + u[2])*cos(θ) - g\n",
    "    θ̈ = (1/(0.2*m*ℓ*ℓ))*(ℓ/2)*(u[2] - u[1])\n",
    "    \n",
    "    return [x[4:6]; ẍ; ÿ; θ̈]\n",
    "end"
   ]
  },
  {
   "cell_type": "code",
   "execution_count": 538,
   "id": "a5247c41-b8a1-4288-934d-92d6bdc6cf6c",
   "metadata": {},
   "outputs": [
    {
     "data": {
      "text/plain": [
       "quad_dynamics_rk4 (generic function with 1 method)"
      ]
     },
     "execution_count": 538,
     "metadata": {},
     "output_type": "execute_result"
    }
   ],
   "source": [
    "function quad_dynamics_rk4(x,u)\n",
    "    #RK4 integration with zero-order hold on u\n",
    "    f1 = quad_dynamics(x, u)\n",
    "    f2 = quad_dynamics(x + 0.5*h*f1, u)\n",
    "    f3 = quad_dynamics(x + 0.5*h*f2, u)\n",
    "    f4 = quad_dynamics(x + h*f3, u)\n",
    "    return x + (h/6.0)*(f1 + 2*f2 + 2*f3 + f4)\n",
    "end"
   ]
  },
  {
   "cell_type": "code",
   "execution_count": 539,
   "id": "d539b293-8a89-4d4c-a1f9-25abdc6616e0",
   "metadata": {},
   "outputs": [],
   "source": [
    "#Linearized dynamics for hovering\n",
    "x_hover = zeros(6)\n",
    "u_hover = [0.5*m*g; 0.5*m*g]\n",
    "A = ForwardDiff.jacobian(x->quad_dynamics_rk4(x,u_hover),x_hover);\n",
    "B = ForwardDiff.jacobian(u->quad_dynamics_rk4(x_hover,u),u_hover);"
   ]
  },
  {
   "cell_type": "code",
   "execution_count": 540,
   "id": "aaf85a16-c227-4d4e-9f68-aacae7cf6340",
   "metadata": {},
   "outputs": [],
   "source": [
    "n = 6     # number of state\n",
    "m = 2     # number of controls\n",
    "Tfinal = 10.0 # final time\n",
    "N = Int(Tfinal/h)+1    # number of time steps\n",
    "thist = Array(range(0,h*(N-1), step=h));"
   ]
  },
  {
   "cell_type": "code",
   "execution_count": 541,
   "id": "774b52e5-6fb4-45d7-9e64-ecd85a3e766a",
   "metadata": {},
   "outputs": [],
   "source": [
    "#2D Quadrotor Problem\n",
    "x0 = [1.0; -0.5; 0; 0; 0; 0]\n",
    "\n",
    "#LQR Cost Matrices\n",
    "Q = Array(1.0*I(n))\n",
    "R = Array(0.1*I(m))\n",
    "#Qf = Array(1.0*I(2));\n",
    "Qf = dare(A,B,Q,R); #This makes sure that the infinite-horizon K is the solution to the finite-horizon problem"
   ]
  },
  {
   "cell_type": "code",
   "execution_count": 542,
   "id": "fa335ca9-af9c-4dd6-9965-8a69dfe5dedc",
   "metadata": {},
   "outputs": [
    {
     "data": {
      "text/plain": [
       "cost (generic function with 2 methods)"
      ]
     },
     "execution_count": 542,
     "metadata": {},
     "output_type": "execute_result"
    }
   ],
   "source": [
    "#Cost Function\n",
    "function cost(xtraj,utraj,Q,R,Qf)\n",
    "    J = 0.0\n",
    "    for k = 1:(N-1)\n",
    "        J += 0.5*xtraj[:,k]'*Q*xtraj[:,k] + 0.5*(utraj[k]'*R*utraj[k])[1]\n",
    "    end\n",
    "    J += 0.5*xtraj[:,N]'*Qf*xtraj[:,N]\n",
    "end\n",
    "\n",
    "function cost(x0,K)\n",
    "    xt = zeros(eltype(K),n,N)\n",
    "    ut = zeros(eltype(K),m,N-1)\n",
    "    rollout!(xt,ut,x0,K)\n",
    "    J = 0.0\n",
    "    for k = 1:(N-1)\n",
    "        J += 0.5*xt[:,k]'*Q*xt[:,k] + 0.5*(ut[k]'*R*ut[k])[1]\n",
    "    end\n",
    "    J += 0.5*xt[:,N]'*Qf*xt[:,N]\n",
    "end"
   ]
  },
  {
   "cell_type": "code",
   "execution_count": 543,
   "id": "98c8cc49-5d4a-4540-a5c1-9836ba793358",
   "metadata": {},
   "outputs": [
    {
     "data": {
      "text/plain": [
       "2×6 Matrix{Float64}:\n",
       " -0.173043  1.32479  -1.5023  -0.287999  1.75495  -0.430164\n",
       "  0.173043  1.32479   1.5023   0.287999  1.75495   0.430164"
      ]
     },
     "execution_count": 543,
     "metadata": {},
     "output_type": "execute_result"
    }
   ],
   "source": [
    "#Groud Truth Solution (Infinite-Horizon LQR Gain)\n",
    "K_true = dlqr(A,B,Q,R)"
   ]
  },
  {
   "cell_type": "code",
   "execution_count": 544,
   "id": "946867d0-8d0e-4e05-9735-d4bd9357f23e",
   "metadata": {},
   "outputs": [],
   "source": [
    "#Ground-truth Closed-loop simulation with LQR controller\n",
    "\n",
    "function rollout!(xtraj,utraj,x0,K)\n",
    "    xtraj[:,1] .= x0\n",
    "    for k = 1:(N-1)\n",
    "        utraj[:,k] .= -K*xtraj[:,k]\n",
    "        xtraj[:,k+1] .= A*xtraj[:,k] + B*utraj[:,k]\n",
    "    end\n",
    "end\n",
    "    \n",
    "xtraj_true = zeros(n,N)\n",
    "utraj_true = zeros(m,N-1)\n",
    "\n",
    "rollout!(xtraj_true,utraj_true,x0,K_true)"
   ]
  },
  {
   "cell_type": "code",
   "execution_count": 545,
   "id": "56f7254b-f092-4231-bb87-3e88068a3232",
   "metadata": {},
   "outputs": [
    {
     "data": {
      "image/png": "[encoded data removed]",
      "text/plain": [
       "Figure(PyObject <Figure size 640x480 with 1 Axes>)"
      ]
     },
     "metadata": {},
     "output_type": "display_data"
    },
    {
     "data": {
      "text/plain": [
       "1-element Vector{PyCall.PyObject}:\n",
       " PyObject <matplotlib.lines.Line2D object at 0x1e8758d30>"
      ]
     },
     "execution_count": 545,
     "metadata": {},
     "output_type": "execute_result"
    }
   ],
   "source": [
    "plot(xtraj_true[1,:])\n",
    "plot(xtraj_true[2,:])\n",
    "plot(xtraj_true[3,:])"
   ]
  },
  {
   "cell_type": "code",
   "execution_count": 546,
   "id": "404f17a0-101b-40db-a590-410f117a28e8",
   "metadata": {},
   "outputs": [
    {
     "data": {
      "image/png": "[encoded data removed]",
      "text/plain": [
       "Figure(PyObject <Figure size 640x480 with 1 Axes>)"
      ]
     },
     "metadata": {},
     "output_type": "display_data"
    },
    {
     "data": {
      "text/plain": [
       "1-element Vector{PyCall.PyObject}:\n",
       " PyObject <matplotlib.lines.Line2D object at 0x1e87ca6a0>"
      ]
     },
     "execution_count": 546,
     "metadata": {},
     "output_type": "execute_result"
    }
   ],
   "source": [
    "plot(utraj_true[1,:])\n",
    "plot(utraj_true[2,:])"
   ]
  },
  {
   "cell_type": "code",
   "execution_count": 547,
   "id": "5713d342-592f-4cb9-ba0d-b52219412d3d",
   "metadata": {},
   "outputs": [],
   "source": [
    "#Gradient Descent w/Momentum + Line Search\n",
    "iter = 300 #number of outer-loop iterations\n",
    "β1 = 0.5\n",
    "\n",
    "K = zeros(m,n)\n",
    "iter_costs = zeros(iter)\n",
    "\n",
    "grad_m = zeros(m,n)\n",
    "\n",
    "xtraj_pg = zeros(n,N)\n",
    "utraj_pg = zeros(m,N-1);\n",
    "\n",
    "for k = 1:iter\n",
    "    \n",
    "    x0_k = x0 + 0.1*randn(6)\n",
    "    \n",
    "    #Do a rollout with current policy\n",
    "    c_old = cost(x0_k,K)\n",
    "    \n",
    "    #Evaluate gradient w.r.t. K\n",
    "    grad = ForwardDiff.gradient(dK->cost(x0_k,dK),K)\n",
    "    \n",
    "    #Gradient w/momentum\n",
    "    grad_m = β1*grad_m + (1-β1)*grad\n",
    "    \n",
    "    #Line search\n",
    "    α = 10.0\n",
    "    K_new = K - α*grad_m\n",
    "    c_new = cost(x0_k,K_new)\n",
    "    while isnan(c_new) || c_new > c_old\n",
    "        α = 0.5*α\n",
    "        K_new = K - α*grad_m\n",
    "        c_new = cost(x0_k,K_new)\n",
    "    end\n",
    "    \n",
    "    K .= K_new\n",
    "    \n",
    "    #Store cost for plotting\n",
    "    iter_costs[k] = c_new #cost(x0,K)\n",
    "end"
   ]
  },
  {
   "cell_type": "code",
   "execution_count": 548,
   "id": "20419553-cc2c-4852-aa92-afc12eb6d6af",
   "metadata": {},
   "outputs": [
    {
     "data": {
      "image/png": "[encoded data removed]",
      "text/plain": [
       "Figure(PyObject <Figure size 640x480 with 1 Axes>)"
      ]
     },
     "metadata": {},
     "output_type": "display_data"
    },
    {
     "data": {
      "text/plain": [
       "1-element Vector{PyCall.PyObject}:\n",
       " PyObject <matplotlib.lines.Line2D object at 0x1e892d640>"
      ]
     },
     "execution_count": 548,
     "metadata": {},
     "output_type": "execute_result"
    }
   ],
   "source": [
    "plot(iter_costs)"
   ]
  },
  {
   "cell_type": "code",
   "execution_count": 549,
   "id": "44afaa4b-9537-4a9d-909b-ff39e77f14f0",
   "metadata": {},
   "outputs": [
    {
     "data": {
      "text/plain": [
       "4.990295541940446"
      ]
     },
     "execution_count": 549,
     "metadata": {},
     "output_type": "execute_result"
    }
   ],
   "source": [
    "cost(x0,K)"
   ]
  },
  {
   "cell_type": "code",
   "execution_count": 550,
   "id": "e93d62ee-7f19-434b-99f2-9551b440dc15",
   "metadata": {},
   "outputs": [
    {
     "data": {
      "text/plain": [
       "4.988733286898742"
      ]
     },
     "execution_count": 550,
     "metadata": {},
     "output_type": "execute_result"
    }
   ],
   "source": [
    "c_true = cost(x0,K_true)"
   ]
  },
  {
   "cell_type": "code",
   "execution_count": 551,
   "id": "974f2278-2a81-4c26-99b8-496455b01237",
   "metadata": {},
   "outputs": [
    {
     "data": {
      "text/plain": [
       "2×6 Matrix{Float64}:\n",
       " -0.173043  1.32479  -1.5023  -0.287999  1.75495  -0.430164\n",
       "  0.173043  1.32479   1.5023   0.287999  1.75495   0.430164"
      ]
     },
     "execution_count": 551,
     "metadata": {},
     "output_type": "execute_result"
    }
   ],
   "source": [
    "K_true"
   ]
  },
  {
   "cell_type": "code",
   "execution_count": 552,
   "id": "29acffbe-2f2b-4296-98d4-617d087c06a0",
   "metadata": {},
   "outputs": [
    {
     "data": {
      "text/plain": [
       "2×6 Matrix{Float64}:\n",
       " -0.236409  1.10665  -1.27511  -0.229501  1.81207  -0.34516\n",
       "  0.10861   1.11603   1.73499   0.350503  1.8147    0.515023"
      ]
     },
     "execution_count": 552,
     "metadata": {},
     "output_type": "execute_result"
    }
   ],
   "source": [
    "K"
   ]
  },
  {
   "cell_type": "code",
   "execution_count": 553,
   "id": "56506855-0aaa-4533-b347-d22a81644294",
   "metadata": {},
   "outputs": [
    {
     "data": {
      "text/plain": [
       "6-element Vector{Float64}:\n",
       " 0.018838581222544684\n",
       " 0.3721062878171307\n",
       " 0.6456809095586935\n",
       " 0.6456809095586935\n",
       " 0.8257923805474477\n",
       " 0.8558110236359553"
      ]
     },
     "execution_count": 553,
     "metadata": {},
     "output_type": "execute_result"
    }
   ],
   "source": [
    "norm.(eigvals(A-B*K))"
   ]
  },
  {
   "cell_type": "code",
   "execution_count": 554,
   "id": "75f71bb2-8758-4456-a23b-8d5933af26aa",
   "metadata": {},
   "outputs": [
    {
     "data": {
      "image/png": "[encoded data removed]",
      "text/plain": [
       "Figure(PyObject <Figure size 640x480 with 1 Axes>)"
      ]
     },
     "metadata": {},
     "output_type": "display_data"
    },
    {
     "data": {
      "text/plain": [
       "1-element Vector{PyCall.PyObject}:\n",
       " PyObject <matplotlib.lines.Line2D object at 0x1e899e1f0>"
      ]
     },
     "execution_count": 554,
     "metadata": {},
     "output_type": "execute_result"
    }
   ],
   "source": [
    "rollout!(xtraj_pg,utraj_pg,x0,K)\n",
    "plot(xtraj_pg[1,:])\n",
    "plot(xtraj_pg[2,:])\n",
    "plot(xtraj_pg[3,:])"
   ]
  },
  {
   "cell_type": "code",
   "execution_count": null,
   "id": "cbd7dd0f-ab4c-4ac2-bfb7-43321f7a2f89",
   "metadata": {},
   "outputs": [],
   "source": []
  },
  {
   "cell_type": "code",
   "execution_count": null,
   "id": "5c3e2f67-3b67-43de-b0f7-be2bce311964",
   "metadata": {},
   "outputs": [],
   "source": []
  }
 ],
 "metadata": {
  "kernelspec": {
   "display_name": "Julia 1.6.5",
   "language": "julia",
   "name": "julia-1.6"
  },
  "language_info": {
   "file_extension": ".jl",
   "mimetype": "application/julia",
   "name": "julia",
   "version": "1.6.5"
  }
 },
 "nbformat": 4,
 "nbformat_minor": 5
}
