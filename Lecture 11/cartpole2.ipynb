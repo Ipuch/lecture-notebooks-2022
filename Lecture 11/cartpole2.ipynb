{
 "cells": [
  {
   "cell_type": "code",
   "execution_count": 16,
   "id": "1760edc4-4d81-4141-ba5d-5ecd70a8acaf",
   "metadata": {},
   "outputs": [
    {
     "name": "stderr",
     "output_type": "stream",
     "text": [
      "\u001b[32m\u001b[1m  Activating\u001b[22m\u001b[39m environment at `~/GitHub/lecture-notebooks/Lecture 11/Project.toml`\n"
     ]
    }
   ],
   "source": [
    "import Pkg; Pkg.activate(@__DIR__); Pkg.instantiate()"
   ]
  },
  {
   "cell_type": "code",
   "execution_count": 17,
   "id": "b71c04f7-d9bf-45eb-9cd8-5ae4743596a8",
   "metadata": {},
   "outputs": [],
   "source": [
    "using LinearAlgebra\n",
    "using StaticArrays\n",
    "using RobotDynamics\n",
    "import RobotZoo.Cartpole\n",
    "using TrajectoryOptimization\n",
    "using Altro"
   ]
  },
  {
   "cell_type": "code",
   "execution_count": 18,
   "id": "b824bb4f-09c7-4a97-96d4-e60ca9df7fb0",
   "metadata": {},
   "outputs": [],
   "source": [
    "model = Cartpole()\n",
    "n,m = size(model);"
   ]
  },
  {
   "cell_type": "code",
   "execution_count": 19,
   "id": "cdfcb06f-cd68-4b77-be52-690cb26fb8b3",
   "metadata": {},
   "outputs": [
    {
     "data": {
      "text/plain": [
       "0.05"
      ]
     },
     "execution_count": 19,
     "metadata": {},
     "output_type": "execute_result"
    }
   ],
   "source": [
    "N = 101\n",
    "Tf = 5.0\n",
    "h = Tf/(N-1)"
   ]
  },
  {
   "cell_type": "code",
   "execution_count": 20,
   "id": "e8ff80ef-4106-47d3-8d88-f5e2f17a8a86",
   "metadata": {},
   "outputs": [],
   "source": [
    "x0 = @SVector zeros(n)\n",
    "xf = @SVector [0, pi, 0, 0];  # i.e. swing up"
   ]
  },
  {
   "cell_type": "code",
   "execution_count": 21,
   "id": "638586bc-4956-4a6a-bfbf-dec5d036cc93",
   "metadata": {},
   "outputs": [],
   "source": [
    "# Set up\n",
    "Q = 1.0*Diagonal(@SVector ones(n))\n",
    "Qf = 100.0*Diagonal(@SVector ones(n))\n",
    "R = 0.1*Diagonal(@SVector ones(m))\n",
    "obj = LQRObjective(Q,R,Qf,xf,N);"
   ]
  },
  {
   "cell_type": "code",
   "execution_count": 25,
   "id": "d91559d8-a009-4cec-bc5c-c932b965a494",
   "metadata": {},
   "outputs": [],
   "source": [
    "# Create Empty ConstraintList\n",
    "conSet = ConstraintList(n,m,N)\n",
    "\n",
    "# Control Bounds\n",
    "u_bnd = 3.0\n",
    "bnd = BoundConstraint(n,m, u_min=-u_bnd, u_max=u_bnd)\n",
    "add_constraint!(conSet, bnd, 1:N-1)\n",
    "\n",
    "# Goal Constraint\n",
    "goal = GoalConstraint(xf)\n",
    "add_constraint!(conSet, goal, N)"
   ]
  },
  {
   "cell_type": "code",
   "execution_count": 26,
   "id": "d6816995-0d1e-421d-a785-9ce87eae5a04",
   "metadata": {},
   "outputs": [],
   "source": [
    "prob = Problem(model, obj, xf, Tf, x0=x0, constraints=conSet);"
   ]
  },
  {
   "cell_type": "code",
   "execution_count": 27,
   "id": "17f9edf7-14db-4ca0-ae42-5c374659040c",
   "metadata": {},
   "outputs": [],
   "source": [
    "u0 = @SVector fill(0.001,m)\n",
    "U0 = [u0 for k = 1:N-1]\n",
    "initial_controls!(prob, U0)\n",
    "rollout!(prob);"
   ]
  },
  {
   "cell_type": "code",
   "execution_count": 28,
   "id": "cd218999-1097-4b4f-9a4b-678c37af4e07",
   "metadata": {},
   "outputs": [
    {
     "name": "stdout",
     "output_type": "stream",
     "text": [
      "\u001b[32;1m\n",
      "SOLVE COMPLETED\n",
      "\u001b[0m solved using the \u001b[0m\u001b[36;1mALTRO\u001b[0m Solver,\n",
      " part of the Altro.jl package developed by the REx Lab at Stanford and Carnegie Mellon Universities\n",
      "\u001b[34;1m\n",
      "  Solve Statistics\n",
      "\u001b[0m    Total Iterations: 97\n",
      "\u001b[0m    Solve Time: 19.242791999999998 (ms)\n",
      "\u001b[34;1m\n",
      "  Covergence\n",
      "\u001b[0m    Terminal Cost: 54.73317974139106\n",
      "\u001b[0m    Terminal dJ: \u001b[32m7.166105297784497e-5\n",
      "\u001b[0m    Terminal gradient: \u001b[32m0.0018706099261702532\n",
      "\u001b[0m    Terminal constraint violation: \u001b[32m5.530829798594539e-7\n",
      "\u001b[0m    Solve Status: \u001b[1m\u001b[32mSOLVE_SUCCEEDED\n",
      "\u001b[0m"
     ]
    }
   ],
   "source": [
    "opts = SolverOptions(\n",
    "    cost_tolerance_intermediate=1e-3,\n",
    "    penalty_scaling=10.,\n",
    "    penalty_initial=1.0\n",
    ")\n",
    "\n",
    "altro = ALTROSolver(prob, opts)\n",
    "set_options!(altro, show_summary=true)\n",
    "solve!(altro);"
   ]
  },
  {
   "cell_type": "code",
   "execution_count": 29,
   "id": "428de99e-b15f-498e-96db-c8addee6f9b3",
   "metadata": {},
   "outputs": [],
   "source": [
    "# Extract the solution\n",
    "X = states(altro);\n",
    "U = controls(altro);"
   ]
  },
  {
   "cell_type": "code",
   "execution_count": 30,
   "id": "d367bd6c-d031-4da0-8121-5da96901456b",
   "metadata": {},
   "outputs": [
    {
     "name": "stderr",
     "output_type": "stream",
     "text": [
      "┌ Info: MeshCat server started. You can open the visualizer by visiting the following URL in your browser:\n",
      "│ http://127.0.0.1:8715\n",
      "└ @ MeshCat /Users/zac/.julia/packages/MeshCat/GlCMx/src/visualizer.jl:73\n"
     ]
    },
    {
     "data": {
      "text/html": [
       "    <div style=\"height: 500px; width: 100%; overflow-x: auto; overflow-y: hidden; resize: both\">\n",
       "    <iframe src=\"http://127.0.0.1:8715\" style=\"width: 100%; height: 100%; border: none\"></iframe>\n",
       "    </div>\n"
      ],
      "text/plain": [
       "MeshCat.DisplayedVisualizer(MeshCat.CoreVisualizer(MeshCat.SceneTrees.SceneNode(nothing, nothing, Dict{String, Vector{UInt8}}(), nothing, Dict{String, MeshCat.SceneTrees.SceneNode}()), Set{Any}(), ip\"127.0.0.1\", 8715))"
      ]
     },
     "execution_count": 30,
     "metadata": {},
     "output_type": "execute_result"
    }
   ],
   "source": [
    "using TrajOptPlots\n",
    "using MeshCat\n",
    "using Plots\n",
    "\n",
    "vis = Visualizer()\n",
    "render(vis)"
   ]
  },
  {
   "cell_type": "code",
   "execution_count": 31,
   "id": "5fcc35fa-990c-4dcb-8edc-7846da9fb966",
   "metadata": {},
   "outputs": [
    {
     "data": {
      "text/plain": [
       "MeshCat Visualizer with path /meshcat/robot/cart/pole at http://127.0.0.1:8715"
      ]
     },
     "execution_count": 31,
     "metadata": {},
     "output_type": "execute_result"
    }
   ],
   "source": [
    "TrajOptPlots.set_mesh!(vis, model)"
   ]
  },
  {
   "cell_type": "code",
   "execution_count": 32,
   "id": "7b124f7f-26a3-4a74-ace1-0735fe716a84",
   "metadata": {},
   "outputs": [],
   "source": [
    "visualize!(vis, altro);"
   ]
  },
  {
   "cell_type": "code",
   "execution_count": 15,
   "id": "79b1dacd-915a-41de-9bff-146ae73f2532",
   "metadata": {},
   "outputs": [
    {
     "data": {
      "image/svg+xml": [
       "<?xml version=\"1.0\" encoding=\"utf-8\"?>\n",
       "<svg xmlns=\"http://www.w3.org/2000/svg\" xmlns:xlink=\"http://www.w3.org/1999/xlink\" width=\"600\" height=\"400\" viewBox=\"0 0 2400 1600\">\n",
       "<defs>\n",
       "  <clipPath id=\"clip650\">\n",
       "    <rect x=\"0\" y=\"0\" width=\"2400\" height=\"1600\"/>\n",
       "  </clipPath>\n",
       "</defs>\n",
       "<path clip-path=\"url(#clip650)\" d=\"\n",
       "M0 1600 L2400 1600 L2400 0 L0 0  Z\n",
       "  \" fill=\"#ffffff\" fill-rule=\"evenodd\" fill-opacity=\"1\"/>\n",
       "<defs>\n",
       "  <clipPath id=\"clip651\">\n",
       "    <rect x=\"480\" y=\"0\" width=\"1681\" height=\"1600\"/>\n",
       "  </clipPath>\n",
       "</defs>\n",
       "<path clip-path=\"url(#clip650)\" d=\"\n",
       "M148.057 1486.45 L2352.76 1486.45 L2352.76 47.2441 L148.057 47.2441  Z\n",
       "  \" fill=\"#ffffff\" fill-rule=\"evenodd\" fill-opacity=\"1\"/>\n",
       "<defs>\n",
       "  <clipPath id=\"clip652\">\n",
       "    <rect x=\"148\" y=\"47\" width=\"2206\" height=\"1440\"/>\n",
       "  </clipPath>\n",
       "</defs>\n",
       "<polyline clip-path=\"url(#clip652)\" style=\"stroke:#000000; stroke-linecap:butt; stroke-linejoin:round; stroke-width:2; stroke-opacity:0.1; fill:none\" points=\"\n",
       "  189.445,1486.45 189.445,47.2441 \n",
       "  \"/>\n",
       "<polyline clip-path=\"url(#clip652)\" style=\"stroke:#000000; stroke-linecap:butt; stroke-linejoin:round; stroke-width:2; stroke-opacity:0.1; fill:none\" points=\"\n",
       "  714.673,1486.45 714.673,47.2441 \n",
       "  \"/>\n",
       "<polyline clip-path=\"url(#clip652)\" style=\"stroke:#000000; stroke-linecap:butt; stroke-linejoin:round; stroke-width:2; stroke-opacity:0.1; fill:none\" points=\"\n",
       "  1239.9,1486.45 1239.9,47.2441 \n",
       "  \"/>\n",
       "<polyline clip-path=\"url(#clip652)\" style=\"stroke:#000000; stroke-linecap:butt; stroke-linejoin:round; stroke-width:2; stroke-opacity:0.1; fill:none\" points=\"\n",
       "  1765.13,1486.45 1765.13,47.2441 \n",
       "  \"/>\n",
       "<polyline clip-path=\"url(#clip652)\" style=\"stroke:#000000; stroke-linecap:butt; stroke-linejoin:round; stroke-width:2; stroke-opacity:0.1; fill:none\" points=\"\n",
       "  2290.36,1486.45 2290.36,47.2441 \n",
       "  \"/>\n",
       "<polyline clip-path=\"url(#clip650)\" style=\"stroke:#000000; stroke-linecap:butt; stroke-linejoin:round; stroke-width:4; stroke-opacity:1; fill:none\" points=\"\n",
       "  148.057,1486.45 2352.76,1486.45 \n",
       "  \"/>\n",
       "<polyline clip-path=\"url(#clip650)\" style=\"stroke:#000000; stroke-linecap:butt; stroke-linejoin:round; stroke-width:4; stroke-opacity:1; fill:none\" points=\"\n",
       "  189.445,1486.45 189.445,1467.55 \n",
       "  \"/>\n",
       "<polyline clip-path=\"url(#clip650)\" style=\"stroke:#000000; stroke-linecap:butt; stroke-linejoin:round; stroke-width:4; stroke-opacity:1; fill:none\" points=\"\n",
       "  714.673,1486.45 714.673,1467.55 \n",
       "  \"/>\n",
       "<polyline clip-path=\"url(#clip650)\" style=\"stroke:#000000; stroke-linecap:butt; stroke-linejoin:round; stroke-width:4; stroke-opacity:1; fill:none\" points=\"\n",
       "  1239.9,1486.45 1239.9,1467.55 \n",
       "  \"/>\n",
       "<polyline clip-path=\"url(#clip650)\" style=\"stroke:#000000; stroke-linecap:butt; stroke-linejoin:round; stroke-width:4; stroke-opacity:1; fill:none\" points=\"\n",
       "  1765.13,1486.45 1765.13,1467.55 \n",
       "  \"/>\n",
       "<polyline clip-path=\"url(#clip650)\" style=\"stroke:#000000; stroke-linecap:butt; stroke-linejoin:round; stroke-width:4; stroke-opacity:1; fill:none\" points=\"\n",
       "  2290.36,1486.45 2290.36,1467.55 \n",
       "  \"/>\n",
       "<path clip-path=\"url(#clip650)\" d=\"M189.445 1517.37 Q185.834 1517.37 184.005 1520.93 Q182.199 1524.47 182.199 1531.6 Q182.199 1538.71 184.005 1542.27 Q185.834 1545.82 189.445 1545.82 Q193.079 1545.82 194.884 1542.27 Q196.713 1538.71 196.713 1531.6 Q196.713 1524.47 194.884 1520.93 Q193.079 1517.37 189.445 1517.37 M189.445 1513.66 Q195.255 1513.66 198.31 1518.27 Q201.389 1522.85 201.389 1531.6 Q201.389 1540.33 198.31 1544.94 Q195.255 1549.52 189.445 1549.52 Q183.634 1549.52 180.556 1544.94 Q177.5 1540.33 177.5 1531.6 Q177.5 1522.85 180.556 1518.27 Q183.634 1513.66 189.445 1513.66 Z\" fill=\"#000000\" fill-rule=\"evenodd\" fill-opacity=\"1\" /><path clip-path=\"url(#clip650)\" d=\"M693.944 1544.91 L710.263 1544.91 L710.263 1548.85 L688.319 1548.85 L688.319 1544.91 Q690.981 1542.16 695.564 1537.53 Q700.171 1532.88 701.351 1531.53 Q703.597 1529.01 704.476 1527.27 Q705.379 1525.51 705.379 1523.82 Q705.379 1521.07 703.435 1519.33 Q701.514 1517.6 698.412 1517.6 Q696.213 1517.6 693.759 1518.36 Q691.328 1519.13 688.551 1520.68 L688.551 1515.95 Q691.375 1514.82 693.828 1514.24 Q696.282 1513.66 698.319 1513.66 Q703.689 1513.66 706.884 1516.35 Q710.078 1519.03 710.078 1523.52 Q710.078 1525.65 709.268 1527.57 Q708.481 1529.47 706.375 1532.07 Q705.796 1532.74 702.694 1535.95 Q699.592 1539.15 693.944 1544.91 Z\" fill=\"#000000\" fill-rule=\"evenodd\" fill-opacity=\"1\" /><path clip-path=\"url(#clip650)\" d=\"M720.125 1514.29 L738.481 1514.29 L738.481 1518.22 L724.407 1518.22 L724.407 1526.7 Q725.425 1526.35 726.444 1526.19 Q727.462 1526 728.481 1526 Q734.268 1526 737.648 1529.17 Q741.027 1532.34 741.027 1537.76 Q741.027 1543.34 737.555 1546.44 Q734.083 1549.52 727.763 1549.52 Q725.587 1549.52 723.319 1549.15 Q721.074 1548.78 718.666 1548.04 L718.666 1543.34 Q720.75 1544.47 722.972 1545.03 Q725.194 1545.58 727.671 1545.58 Q731.675 1545.58 734.013 1543.48 Q736.351 1541.37 736.351 1537.76 Q736.351 1534.15 734.013 1532.04 Q731.675 1529.94 727.671 1529.94 Q725.796 1529.94 723.921 1530.35 Q722.069 1530.77 720.125 1531.65 L720.125 1514.29 Z\" fill=\"#000000\" fill-rule=\"evenodd\" fill-opacity=\"1\" /><path clip-path=\"url(#clip650)\" d=\"M1214.6 1514.29 L1232.96 1514.29 L1232.96 1518.22 L1218.88 1518.22 L1218.88 1526.7 Q1219.9 1526.35 1220.92 1526.19 Q1221.94 1526 1222.96 1526 Q1228.74 1526 1232.12 1529.17 Q1235.5 1532.34 1235.5 1537.76 Q1235.5 1543.34 1232.03 1546.44 Q1228.56 1549.52 1222.24 1549.52 Q1220.06 1549.52 1217.8 1549.15 Q1215.55 1548.78 1213.14 1548.04 L1213.14 1543.34 Q1215.23 1544.47 1217.45 1545.03 Q1219.67 1545.58 1222.15 1545.58 Q1226.15 1545.58 1228.49 1543.48 Q1230.83 1541.37 1230.83 1537.76 Q1230.83 1534.15 1228.49 1532.04 Q1226.15 1529.94 1222.15 1529.94 Q1220.27 1529.94 1218.4 1530.35 Q1216.55 1530.77 1214.6 1531.65 L1214.6 1514.29 Z\" fill=\"#000000\" fill-rule=\"evenodd\" fill-opacity=\"1\" /><path clip-path=\"url(#clip650)\" d=\"M1254.72 1517.37 Q1251.11 1517.37 1249.28 1520.93 Q1247.47 1524.47 1247.47 1531.6 Q1247.47 1538.71 1249.28 1542.27 Q1251.11 1545.82 1254.72 1545.82 Q1258.35 1545.82 1260.16 1542.27 Q1261.98 1538.71 1261.98 1531.6 Q1261.98 1524.47 1260.16 1520.93 Q1258.35 1517.37 1254.72 1517.37 M1254.72 1513.66 Q1260.53 1513.66 1263.58 1518.27 Q1266.66 1522.85 1266.66 1531.6 Q1266.66 1540.33 1263.58 1544.94 Q1260.53 1549.52 1254.72 1549.52 Q1248.91 1549.52 1245.83 1544.94 Q1242.77 1540.33 1242.77 1531.6 Q1242.77 1522.85 1245.83 1518.27 Q1248.91 1513.66 1254.72 1513.66 Z\" fill=\"#000000\" fill-rule=\"evenodd\" fill-opacity=\"1\" /><path clip-path=\"url(#clip650)\" d=\"M1738.98 1514.29 L1761.21 1514.29 L1761.21 1516.28 L1748.66 1548.85 L1743.78 1548.85 L1755.58 1518.22 L1738.98 1518.22 L1738.98 1514.29 Z\" fill=\"#000000\" fill-rule=\"evenodd\" fill-opacity=\"1\" /><path clip-path=\"url(#clip650)\" d=\"M1770.37 1514.29 L1788.73 1514.29 L1788.73 1518.22 L1774.66 1518.22 L1774.66 1526.7 Q1775.67 1526.35 1776.69 1526.19 Q1777.71 1526 1778.73 1526 Q1784.52 1526 1787.9 1529.17 Q1791.28 1532.34 1791.28 1537.76 Q1791.28 1543.34 1787.8 1546.44 Q1784.33 1549.52 1778.01 1549.52 Q1775.84 1549.52 1773.57 1549.15 Q1771.32 1548.78 1768.91 1548.04 L1768.91 1543.34 Q1771 1544.47 1773.22 1545.03 Q1775.44 1545.58 1777.92 1545.58 Q1781.92 1545.58 1784.26 1543.48 Q1786.6 1541.37 1786.6 1537.76 Q1786.6 1534.15 1784.26 1532.04 Q1781.92 1529.94 1777.92 1529.94 Q1776.04 1529.94 1774.17 1530.35 Q1772.32 1530.77 1770.37 1531.65 L1770.37 1514.29 Z\" fill=\"#000000\" fill-rule=\"evenodd\" fill-opacity=\"1\" /><path clip-path=\"url(#clip650)\" d=\"M2249.97 1544.91 L2257.6 1544.91 L2257.6 1518.55 L2249.29 1520.21 L2249.29 1515.95 L2257.56 1514.29 L2262.23 1514.29 L2262.23 1544.91 L2269.87 1544.91 L2269.87 1548.85 L2249.97 1548.85 L2249.97 1544.91 Z\" fill=\"#000000\" fill-rule=\"evenodd\" fill-opacity=\"1\" /><path clip-path=\"url(#clip650)\" d=\"M2289.32 1517.37 Q2285.71 1517.37 2283.88 1520.93 Q2282.07 1524.47 2282.07 1531.6 Q2282.07 1538.71 2283.88 1542.27 Q2285.71 1545.82 2289.32 1545.82 Q2292.95 1545.82 2294.76 1542.27 Q2296.59 1538.71 2296.59 1531.6 Q2296.59 1524.47 2294.76 1520.93 Q2292.95 1517.37 2289.32 1517.37 M2289.32 1513.66 Q2295.13 1513.66 2298.18 1518.27 Q2301.26 1522.85 2301.26 1531.6 Q2301.26 1540.33 2298.18 1544.94 Q2295.13 1549.52 2289.32 1549.52 Q2283.51 1549.52 2280.43 1544.94 Q2277.37 1540.33 2277.37 1531.6 Q2277.37 1522.85 2280.43 1518.27 Q2283.51 1513.66 2289.32 1513.66 Z\" fill=\"#000000\" fill-rule=\"evenodd\" fill-opacity=\"1\" /><path clip-path=\"url(#clip650)\" d=\"M2319.48 1517.37 Q2315.87 1517.37 2314.04 1520.93 Q2312.23 1524.47 2312.23 1531.6 Q2312.23 1538.71 2314.04 1542.27 Q2315.87 1545.82 2319.48 1545.82 Q2323.11 1545.82 2324.92 1542.27 Q2326.75 1538.71 2326.75 1531.6 Q2326.75 1524.47 2324.92 1520.93 Q2323.11 1517.37 2319.48 1517.37 M2319.48 1513.66 Q2325.29 1513.66 2328.34 1518.27 Q2331.42 1522.85 2331.42 1531.6 Q2331.42 1540.33 2328.34 1544.94 Q2325.29 1549.52 2319.48 1549.52 Q2313.67 1549.52 2310.59 1544.94 Q2307.53 1540.33 2307.53 1531.6 Q2307.53 1522.85 2310.59 1518.27 Q2313.67 1513.66 2319.48 1513.66 Z\" fill=\"#000000\" fill-rule=\"evenodd\" fill-opacity=\"1\" /><polyline clip-path=\"url(#clip652)\" style=\"stroke:#000000; stroke-linecap:butt; stroke-linejoin:round; stroke-width:2; stroke-opacity:0.1; fill:none\" points=\"\n",
       "  148.057,1445.72 2352.76,1445.72 \n",
       "  \"/>\n",
       "<polyline clip-path=\"url(#clip652)\" style=\"stroke:#000000; stroke-linecap:butt; stroke-linejoin:round; stroke-width:2; stroke-opacity:0.1; fill:none\" points=\"\n",
       "  148.057,1219.43 2352.76,1219.43 \n",
       "  \"/>\n",
       "<polyline clip-path=\"url(#clip652)\" style=\"stroke:#000000; stroke-linecap:butt; stroke-linejoin:round; stroke-width:2; stroke-opacity:0.1; fill:none\" points=\"\n",
       "  148.057,993.136 2352.76,993.136 \n",
       "  \"/>\n",
       "<polyline clip-path=\"url(#clip652)\" style=\"stroke:#000000; stroke-linecap:butt; stroke-linejoin:round; stroke-width:2; stroke-opacity:0.1; fill:none\" points=\"\n",
       "  148.057,766.846 2352.76,766.846 \n",
       "  \"/>\n",
       "<polyline clip-path=\"url(#clip652)\" style=\"stroke:#000000; stroke-linecap:butt; stroke-linejoin:round; stroke-width:2; stroke-opacity:0.1; fill:none\" points=\"\n",
       "  148.057,540.556 2352.76,540.556 \n",
       "  \"/>\n",
       "<polyline clip-path=\"url(#clip652)\" style=\"stroke:#000000; stroke-linecap:butt; stroke-linejoin:round; stroke-width:2; stroke-opacity:0.1; fill:none\" points=\"\n",
       "  148.057,314.266 2352.76,314.266 \n",
       "  \"/>\n",
       "<polyline clip-path=\"url(#clip652)\" style=\"stroke:#000000; stroke-linecap:butt; stroke-linejoin:round; stroke-width:2; stroke-opacity:0.1; fill:none\" points=\"\n",
       "  148.057,87.9763 2352.76,87.9763 \n",
       "  \"/>\n",
       "<polyline clip-path=\"url(#clip650)\" style=\"stroke:#000000; stroke-linecap:butt; stroke-linejoin:round; stroke-width:4; stroke-opacity:1; fill:none\" points=\"\n",
       "  148.057,1486.45 148.057,47.2441 \n",
       "  \"/>\n",
       "<polyline clip-path=\"url(#clip650)\" style=\"stroke:#000000; stroke-linecap:butt; stroke-linejoin:round; stroke-width:4; stroke-opacity:1; fill:none\" points=\"\n",
       "  148.057,1445.72 166.954,1445.72 \n",
       "  \"/>\n",
       "<polyline clip-path=\"url(#clip650)\" style=\"stroke:#000000; stroke-linecap:butt; stroke-linejoin:round; stroke-width:4; stroke-opacity:1; fill:none\" points=\"\n",
       "  148.057,1219.43 166.954,1219.43 \n",
       "  \"/>\n",
       "<polyline clip-path=\"url(#clip650)\" style=\"stroke:#000000; stroke-linecap:butt; stroke-linejoin:round; stroke-width:4; stroke-opacity:1; fill:none\" points=\"\n",
       "  148.057,993.136 166.954,993.136 \n",
       "  \"/>\n",
       "<polyline clip-path=\"url(#clip650)\" style=\"stroke:#000000; stroke-linecap:butt; stroke-linejoin:round; stroke-width:4; stroke-opacity:1; fill:none\" points=\"\n",
       "  148.057,766.846 166.954,766.846 \n",
       "  \"/>\n",
       "<polyline clip-path=\"url(#clip650)\" style=\"stroke:#000000; stroke-linecap:butt; stroke-linejoin:round; stroke-width:4; stroke-opacity:1; fill:none\" points=\"\n",
       "  148.057,540.556 166.954,540.556 \n",
       "  \"/>\n",
       "<polyline clip-path=\"url(#clip650)\" style=\"stroke:#000000; stroke-linecap:butt; stroke-linejoin:round; stroke-width:4; stroke-opacity:1; fill:none\" points=\"\n",
       "  148.057,314.266 166.954,314.266 \n",
       "  \"/>\n",
       "<polyline clip-path=\"url(#clip650)\" style=\"stroke:#000000; stroke-linecap:butt; stroke-linejoin:round; stroke-width:4; stroke-opacity:1; fill:none\" points=\"\n",
       "  148.057,87.9763 166.954,87.9763 \n",
       "  \"/>\n",
       "<path clip-path=\"url(#clip650)\" d=\"M50.9921 1446.17 L80.6679 1446.17 L80.6679 1450.1 L50.9921 1450.1 L50.9921 1446.17 Z\" fill=\"#000000\" fill-rule=\"evenodd\" fill-opacity=\"1\" /><path clip-path=\"url(#clip650)\" d=\"M104.927 1444.36 Q108.283 1445.08 110.158 1447.35 Q112.057 1449.62 112.057 1452.95 Q112.057 1458.07 108.538 1460.87 Q105.02 1463.67 98.5382 1463.67 Q96.3623 1463.67 94.0475 1463.23 Q91.7558 1462.81 89.3021 1461.95 L89.3021 1457.44 Q91.2465 1458.57 93.5613 1459.15 Q95.8761 1459.73 98.3993 1459.73 Q102.797 1459.73 105.089 1458 Q107.404 1456.26 107.404 1452.95 Q107.404 1449.89 105.251 1448.18 Q103.121 1446.44 99.3021 1446.44 L95.2743 1446.44 L95.2743 1442.6 L99.4872 1442.6 Q102.936 1442.6 104.765 1441.24 Q106.594 1439.85 106.594 1437.26 Q106.594 1434.59 104.696 1433.18 Q102.821 1431.75 99.3021 1431.75 Q97.3808 1431.75 95.1817 1432.16 Q92.9826 1432.58 90.3438 1433.46 L90.3438 1429.29 Q93.0058 1428.55 95.3206 1428.18 Q97.6585 1427.81 99.7187 1427.81 Q105.043 1427.81 108.145 1430.24 Q111.246 1432.65 111.246 1436.77 Q111.246 1439.64 109.603 1441.63 Q107.959 1443.6 104.927 1444.36 Z\" fill=\"#000000\" fill-rule=\"evenodd\" fill-opacity=\"1\" /><path clip-path=\"url(#clip650)\" d=\"M51.9412 1219.88 L81.617 1219.88 L81.617 1223.81 L51.9412 1223.81 L51.9412 1219.88 Z\" fill=\"#000000\" fill-rule=\"evenodd\" fill-opacity=\"1\" /><path clip-path=\"url(#clip650)\" d=\"M95.7373 1232.77 L112.057 1232.77 L112.057 1236.71 L90.1123 1236.71 L90.1123 1232.77 Q92.7743 1230.02 97.3576 1225.39 Q101.964 1220.73 103.145 1219.39 Q105.39 1216.87 106.27 1215.13 Q107.172 1213.37 107.172 1211.68 Q107.172 1208.93 105.228 1207.19 Q103.307 1205.46 100.205 1205.46 Q98.0058 1205.46 95.5521 1206.22 Q93.1215 1206.98 90.3438 1208.53 L90.3438 1203.81 Q93.1678 1202.68 95.6215 1202.1 Q98.0752 1201.52 100.112 1201.52 Q105.483 1201.52 108.677 1204.21 Q111.871 1206.89 111.871 1211.38 Q111.871 1213.51 111.061 1215.43 Q110.274 1217.33 108.168 1219.92 Q107.589 1220.59 104.487 1223.81 Q101.385 1227.01 95.7373 1232.77 Z\" fill=\"#000000\" fill-rule=\"evenodd\" fill-opacity=\"1\" /><path clip-path=\"url(#clip650)\" d=\"M51.5708 993.587 L81.2466 993.587 L81.2466 997.522 L51.5708 997.522 L51.5708 993.587 Z\" fill=\"#000000\" fill-rule=\"evenodd\" fill-opacity=\"1\" /><path clip-path=\"url(#clip650)\" d=\"M92.1493 1006.48 L99.7882 1006.48 L99.7882 980.115 L91.478 981.782 L91.478 977.523 L99.7419 975.856 L104.418 975.856 L104.418 1006.48 L112.057 1006.48 L112.057 1010.42 L92.1493 1010.42 L92.1493 1006.48 Z\" fill=\"#000000\" fill-rule=\"evenodd\" fill-opacity=\"1\" /><path clip-path=\"url(#clip650)\" d=\"M100.112 752.645 Q96.5011 752.645 94.6724 756.209 Q92.8669 759.751 92.8669 766.881 Q92.8669 773.987 94.6724 777.552 Q96.5011 781.094 100.112 781.094 Q103.746 781.094 105.552 777.552 Q107.381 773.987 107.381 766.881 Q107.381 759.751 105.552 756.209 Q103.746 752.645 100.112 752.645 M100.112 748.941 Q105.922 748.941 108.978 753.547 Q112.057 758.131 112.057 766.881 Q112.057 775.608 108.978 780.214 Q105.922 784.797 100.112 784.797 Q94.3021 784.797 91.2234 780.214 Q88.1679 775.608 88.1679 766.881 Q88.1679 758.131 91.2234 753.547 Q94.3021 748.941 100.112 748.941 Z\" fill=\"#000000\" fill-rule=\"evenodd\" fill-opacity=\"1\" /><path clip-path=\"url(#clip650)\" d=\"M92.1493 553.901 L99.7882 553.901 L99.7882 527.535 L91.478 529.202 L91.478 524.943 L99.7419 523.276 L104.418 523.276 L104.418 553.901 L112.057 553.901 L112.057 557.836 L92.1493 557.836 L92.1493 553.901 Z\" fill=\"#000000\" fill-rule=\"evenodd\" fill-opacity=\"1\" /><path clip-path=\"url(#clip650)\" d=\"M95.7373 327.611 L112.057 327.611 L112.057 331.546 L90.1123 331.546 L90.1123 327.611 Q92.7743 324.856 97.3576 320.227 Q101.964 315.574 103.145 314.231 Q105.39 311.708 106.27 309.972 Q107.172 308.213 107.172 306.523 Q107.172 303.769 105.228 302.032 Q103.307 300.296 100.205 300.296 Q98.0058 300.296 95.5521 301.06 Q93.1215 301.824 90.3438 303.375 L90.3438 298.653 Q93.1678 297.519 95.6215 296.94 Q98.0752 296.361 100.112 296.361 Q105.483 296.361 108.677 299.046 Q111.871 301.732 111.871 306.222 Q111.871 308.352 111.061 310.273 Q110.274 312.171 108.168 314.764 Q107.589 315.435 104.487 318.653 Q101.385 321.847 95.7373 327.611 Z\" fill=\"#000000\" fill-rule=\"evenodd\" fill-opacity=\"1\" /><path clip-path=\"url(#clip650)\" d=\"M104.927 86.6221 Q108.283 87.3397 110.158 89.6082 Q112.057 91.8767 112.057 95.21 Q112.057 100.326 108.538 103.127 Q105.02 105.928 98.5382 105.928 Q96.3623 105.928 94.0475 105.488 Q91.7558 105.071 89.3021 104.215 L89.3021 99.7008 Q91.2465 100.835 93.5613 101.414 Q95.8761 101.992 98.3993 101.992 Q102.797 101.992 105.089 100.256 Q107.404 98.5202 107.404 95.21 Q107.404 92.1545 105.251 90.4415 Q103.121 88.7054 99.3021 88.7054 L95.2743 88.7054 L95.2743 84.8629 L99.4872 84.8629 Q102.936 84.8629 104.765 83.4971 Q106.594 82.1083 106.594 79.5157 Q106.594 76.8537 104.696 75.4416 Q102.821 74.0064 99.3021 74.0064 Q97.3808 74.0064 95.1817 74.4231 Q92.9826 74.8398 90.3438 75.7194 L90.3438 71.5528 Q93.0058 70.812 95.3206 70.4416 Q97.6585 70.0713 99.7187 70.0713 Q105.043 70.0713 108.145 72.5018 Q111.246 74.9092 111.246 79.0296 Q111.246 81.8999 109.603 83.8907 Q107.959 85.8582 104.927 86.6221 Z\" fill=\"#000000\" fill-rule=\"evenodd\" fill-opacity=\"1\" /><polyline clip-path=\"url(#clip652)\" style=\"stroke:#009af9; stroke-linecap:butt; stroke-linejoin:round; stroke-width:4; stroke-opacity:1; fill:none\" points=\"\n",
       "  210.454,536.703 231.463,592.223 252.472,627.635 273.481,647.875 294.49,657.415 315.499,660.279 336.509,660.059 357.518,659.925 378.527,662.633 399.536,670.542 \n",
       "  420.545,685.615 441.554,709.414 462.563,743.075 483.573,787.248 504.582,841.997 525.591,906.64 546.6,979.535 567.609,1057.8 588.618,1137.06 609.627,1211.21 \n",
       "  630.637,1272.54 651.646,1312.11 672.655,1320.67 693.664,1289.75 714.673,1212.35 735.682,1082.62 756.691,894.052 777.701,636.22 798.71,291.256 819.719,87.9763 \n",
       "  840.728,87.9763 861.737,87.9763 882.746,87.9763 903.755,87.9763 924.765,87.9763 945.774,87.9763 966.783,87.9763 987.792,87.9763 1008.8,87.9763 1029.81,87.9763 \n",
       "  1050.82,786.932 1071.83,1445.72 1092.84,1445.72 1113.85,1445.72 1134.86,1445.72 1155.87,1445.72 1176.87,1445.72 1197.88,1445.72 1218.89,1445.72 1239.9,1445.72 \n",
       "  1260.91,1445.72 1281.92,1445.72 1302.93,1445.72 1323.94,1445.72 1344.95,1445.72 1365.96,985.037 1386.97,358.32 1407.97,87.9763 1428.98,87.9763 1449.99,87.9763 \n",
       "  1471,87.9763 1492.01,87.9763 1513.02,87.9763 1534.03,87.9763 1555.04,87.9763 1576.05,87.9763 1597.06,87.9763 1618.07,210.656 1639.08,1445.72 1660.08,1445.72 \n",
       "  1681.09,1445.72 1702.1,1336.14 1723.11,189.061 1744.12,87.9763 1765.13,116.399 1786.14,1445.72 1807.15,1445.72 1828.16,1445.72 1849.17,1445.72 1870.18,1445.72 \n",
       "  1891.19,1445.72 1912.19,1445.72 1933.2,1445.72 1954.21,1445.72 1975.22,1445.72 1996.23,87.9763 2017.24,87.9763 2038.25,87.9763 2059.26,87.9763 2080.27,87.9763 \n",
       "  2101.28,87.9763 2122.29,87.9763 2143.29,87.9763 2164.3,87.9763 2185.31,87.9763 2206.32,519.59 2227.33,1249.6 2248.34,1445.72 2269.35,1445.72 2290.36,1445.72 \n",
       "  \n",
       "  \"/>\n",
       "<path clip-path=\"url(#clip650)\" d=\"\n",
       "M1986.84 198.898 L2279.27 198.898 L2279.27 95.2176 L1986.84 95.2176  Z\n",
       "  \" fill=\"#ffffff\" fill-rule=\"evenodd\" fill-opacity=\"1\"/>\n",
       "<polyline clip-path=\"url(#clip650)\" style=\"stroke:#000000; stroke-linecap:butt; stroke-linejoin:round; stroke-width:4; stroke-opacity:1; fill:none\" points=\"\n",
       "  1986.84,198.898 2279.27,198.898 2279.27,95.2176 1986.84,95.2176 1986.84,198.898 \n",
       "  \"/>\n",
       "<polyline clip-path=\"url(#clip650)\" style=\"stroke:#009af9; stroke-linecap:butt; stroke-linejoin:round; stroke-width:4; stroke-opacity:1; fill:none\" points=\"\n",
       "  2010.84,147.058 2154.84,147.058 \n",
       "  \"/>\n",
       "<path clip-path=\"url(#clip650)\" d=\"M2192.68 166.745 Q2190.87 171.375 2189.16 172.787 Q2187.45 174.199 2184.58 174.199 L2181.17 174.199 L2181.17 170.634 L2183.67 170.634 Q2185.43 170.634 2186.41 169.8 Q2187.38 168.967 2188.56 165.865 L2189.32 163.921 L2178.84 138.412 L2183.35 138.412 L2191.45 158.689 L2199.55 138.412 L2204.07 138.412 L2192.68 166.745 Z\" fill=\"#000000\" fill-rule=\"evenodd\" fill-opacity=\"1\" /><path clip-path=\"url(#clip650)\" d=\"M2211.36 160.402 L2219 160.402 L2219 134.037 L2210.69 135.703 L2210.69 131.444 L2218.95 129.778 L2223.63 129.778 L2223.63 160.402 L2231.27 160.402 L2231.27 164.338 L2211.36 164.338 L2211.36 160.402 Z\" fill=\"#000000\" fill-rule=\"evenodd\" fill-opacity=\"1\" /></svg>\n"
      ]
     },
     "execution_count": 15,
     "metadata": {},
     "output_type": "execute_result"
    }
   ],
   "source": [
    "plot(U)"
   ]
  },
  {
   "cell_type": "code",
   "execution_count": null,
   "id": "d5bfc784-e6b2-4505-86a0-dcf5381e5cd4",
   "metadata": {},
   "outputs": [],
   "source": []
  }
 ],
 "metadata": {
  "kernelspec": {
   "display_name": "Julia 1.6.5",
   "language": "julia",
   "name": "julia-1.6"
  },
  "language_info": {
   "file_extension": ".jl",
   "mimetype": "application/julia",
   "name": "julia",
   "version": "1.6.5"
  }
 },
 "nbformat": 4,
 "nbformat_minor": 5
}
